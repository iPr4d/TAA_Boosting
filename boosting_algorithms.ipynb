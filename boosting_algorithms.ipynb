{
 "cells": [
  {
   "cell_type": "code",
   "execution_count": 81,
   "metadata": {},
   "outputs": [],
   "source": [
    "import pandas as pd\n",
    "import numpy as np\n",
    "import matplotlib.pyplot as plt\n",
    "from sklearn.ensemble import AdaBoostClassifier, GradientBoostingClassifier\n",
    "from sklearn.linear_model import LogisticRegression\n",
    "from sklearn.model_selection import train_test_split\n",
    "from sklearn.metrics import accuracy_score\n",
    "from sklearn import datasets\n",
    "\n",
    "from adaboost import Adaboost"
   ]
  },
  {
   "cell_type": "markdown",
   "metadata": {},
   "source": [
    "# Données simulées"
   ]
  },
  {
   "cell_type": "code",
   "execution_count": 122,
   "metadata": {},
   "outputs": [],
   "source": [
    "# Génération et séparation des données simulées\n",
    "\n",
    "n_samples, n_features = 5000, 30\n",
    "sim_normal = np.random.standard_normal((n_samples, n_features))\n",
    "rand_f = np.random.randn(n_features)\n",
    "sim_sample = sim_normal.dot(rand_f) + np.random.randn(n_samples)\n",
    "y_simulated = np.sign(sim_sample)\n",
    "X_train, X_test, y_train, y_test = train_test_split(sim, y_simulated, test_size=0.3)"
   ]
  },
  {
   "cell_type": "code",
   "execution_count": 123,
   "metadata": {},
   "outputs": [
    {
     "data": {
      "text/plain": [
       "LogisticRegression(C=1.0, class_weight=None, dual=False, fit_intercept=True,\n",
       "                   intercept_scaling=1, l1_ratio=None, max_iter=100,\n",
       "                   multi_class='auto', n_jobs=None, penalty='l2',\n",
       "                   random_state=None, solver='lbfgs', tol=0.0001, verbose=0,\n",
       "                   warm_start=False)"
      ]
     },
     "execution_count": 123,
     "metadata": {},
     "output_type": "execute_result"
    }
   ],
   "source": [
    "# Entraînement des modèles sur les données simulées\n",
    "\n",
    "sklearn_adaboost_clf = AdaBoostClassifier()\n",
    "sklearn_adaboost_clf.fit(X_train, y_train)\n",
    "\n",
    "gradient_boosting_clf = GradientBoostingClassifier()\n",
    "gradient_boosting_clf.fit(X_train, y_train)\n",
    "\n",
    "from_scratch_adaboost_clf = Adaboost()\n",
    "from_scratch_adaboost_clf.fit(X_train, y_train)\n",
    "\n",
    "log_reg_clf = LogisticRegression()\n",
    "log_reg_clf.fit(X_train, y_train)"
   ]
  },
  {
   "cell_type": "code",
   "execution_count": 124,
   "metadata": {},
   "outputs": [
    {
     "name": "stdout",
     "output_type": "stream",
     "text": [
      "Sklearn AdaBoost Classifier\n",
      "Accuracy : 0.494\n",
      "Gradient Boosting Classifier\n",
      "Accuracy : 0.5073333333333333\n",
      "From scratch AdaBoost Classifier\n",
      "Accuracy : 0.514\n",
      "Logistic Regression Classifier\n",
      "Accuracy : 0.5253333333333333\n"
     ]
    }
   ],
   "source": [
    "# Performances des différents algorithmes sur les données simulées\n",
    "\n",
    "print('Sklearn AdaBoost Classifier')\n",
    "y_pred = sklearn_adaboost_clf.predict(X_test)\n",
    "accuracy = accuracy_score(y_test, y_pred)\n",
    "print('Accuracy :', accuracy)\n",
    "\n",
    "print('Gradient Boosting Classifier')\n",
    "y_pred = gradient_boosting_clf.predict(X_test)\n",
    "accuracy = accuracy_score(y_test, y_pred)\n",
    "print('Accuracy :', accuracy)\n",
    "\n",
    "print('From scratch AdaBoost Classifier')\n",
    "y_pred = from_scratch_adaboost_clf.predict(X_test)\n",
    "accuracy = accuracy_score(y_test, y_pred)\n",
    "print('Accuracy :', accuracy)\n",
    "\n",
    "print('Logistic Regression Classifier')\n",
    "y_pred = log_reg_clf.predict(X_test)\n",
    "accuracy = accuracy_score(y_test, y_pred)\n",
    "print('Accuracy :', accuracy)"
   ]
  },
  {
   "cell_type": "markdown",
   "metadata": {},
   "source": [
    "Sur ces données simulées et pour un nombre fixe de classifieurs, le meilleur algortihme semble être la régression logistique."
   ]
  },
  {
   "cell_type": "markdown",
   "metadata": {},
   "source": [
    "# Données réelles"
   ]
  },
  {
   "cell_type": "markdown",
   "metadata": {},
   "source": [
    "## Données relatives au cancer du sein de scikit-learn"
   ]
  },
  {
   "cell_type": "code",
   "execution_count": 94,
   "metadata": {},
   "outputs": [],
   "source": [
    "# Importation des données et processing\n",
    "\n",
    "data = datasets.load_breast_cancer()\n",
    "X = data.data\n",
    "y = data.target\n",
    "\n",
    "X_train, X_test, y_train, y_test = train_test_split(X, y, test_size=0.3)"
   ]
  },
  {
   "cell_type": "code",
   "execution_count": 101,
   "metadata": {},
   "outputs": [
    {
     "name": "stdout",
     "output_type": "stream",
     "text": [
      "Sklearn AdaBoost Classifier\n",
      "Accuracy : 0.9824561403508771\n",
      "Gradient Boosting Classifier\n",
      "Accuracy : 0.9766081871345029\n",
      "From scratch AdaBoost Classifier\n",
      "Accuracy : 0.6432748538011696\n"
     ]
    }
   ],
   "source": [
    "# Calcul de l'accuracy pour 5 classifieurs faibles pour chacun des modèles\n",
    "\n",
    "sklearn_adaboost_clf = AdaBoostClassifier(n_estimators=50)\n",
    "sklearn_adaboost_clf.fit(X_train, y_train)\n",
    "gradient_boosting_clf = GradientBoostingClassifier(n_estimators=50)\n",
    "gradient_boosting_clf.fit(X_train, y_train)\n",
    "from_scratch_adaboost_clf = Adaboost(n_clf=5)\n",
    "from_scratch_adaboost_clf.fit(X_train, y_train)\n",
    "\n",
    "print('Sklearn AdaBoost Classifier')\n",
    "y_pred = sklearn_adaboost_clf.predict(X_test)\n",
    "accuracy = accuracy_score(y_test, y_pred)\n",
    "\n",
    "print('Accuracy :', accuracy)\n",
    "\n",
    "print('Gradient Boosting Classifier')\n",
    "y_pred = gradient_boosting_clf.predict(X_test)\n",
    "accuracy = accuracy_score(y_test, y_pred)\n",
    "\n",
    "print('Accuracy :', accuracy)\n",
    "\n",
    "print('From scratch AdaBoost Classifier')\n",
    "y_pred = from_scratch_adaboost_clf.predict(X_test)\n",
    "accuracy = accuracy_score(y_test, y_pred)\n",
    "\n",
    "print('Accuracy :', accuracy)"
   ]
  },
  {
   "cell_type": "markdown",
   "metadata": {},
   "source": [
    "Pour ces données, le meilleur algorithme semble être ici AdaBoost."
   ]
  },
  {
   "cell_type": "markdown",
   "metadata": {},
   "source": [
    "## Classification d'accidents graves"
   ]
  },
  {
   "cell_type": "markdown",
   "metadata": {},
   "source": [
    "Le jeu de données réel utilisé recense des accidents de la route.\n",
    "Il contient environ 24000 observations et 31 variables.\n",
    "La variable cible est **grav** et elle indique si l'accident qui a eu lieu est grave (modalité 1) ou non (modalité 0)."
   ]
  },
  {
   "cell_type": "code",
   "execution_count": 105,
   "metadata": {},
   "outputs": [],
   "source": [
    "# Importation et processing des données\n",
    "\n",
    "df = pd.read_csv(\"road_accidents.csv\")\n",
    "df = df.drop('gps', axis=1)\n",
    "data = df.iloc[:, :29]\n",
    "target = df['grav']\n",
    "target[target == 0] = -1"
   ]
  },
  {
   "cell_type": "code",
   "execution_count": 106,
   "metadata": {},
   "outputs": [],
   "source": [
    "# Séparation train/test\n",
    "\n",
    "X_train, X_test, y_train, y_test = train_test_split(data, target, test_size = 0.3)"
   ]
  },
  {
   "cell_type": "markdown",
   "metadata": {},
   "source": [
    "### Influence du nombre de classifieurs"
   ]
  },
  {
   "cell_type": "code",
   "execution_count": 111,
   "metadata": {},
   "outputs": [],
   "source": [
    "# Calcul de l'accuracy des modèles pour différents nombres de classifieurs\n",
    "\n",
    "sklearn_adaboost_accuracies = []\n",
    "gradient_boosting_accuracies = []\n",
    "for i in range(5,300,5):\n",
    "    \n",
    "    # Entrainement des modèles à i classifieurs faibles\n",
    "    sklearn_adaboost_clf = AdaBoostClassifier(n_estimators=i)\n",
    "    sklearn_adaboost_clf.fit(X_train, y_train)\n",
    "    gradient_boosting_clf = GradientBoostingClassifier(n_estimators=i)\n",
    "    gradient_boosting_clf.fit(X_train, y_train)\n",
    "    \n",
    "    # Prédiction et calcul de l'accuracy pour sklearn AdaBoost\n",
    "    y_pred = sklearn_adaboost_clf.predict(X_test)\n",
    "    accuracy = accuracy_score(y_test, y_pred)\n",
    "    sklearn_adaboost_accuracies += [accuracy]\n",
    "    \n",
    "    # Prédiction et calcul de l'accuracy pour sklearn GradientBoosting\n",
    "    y_pred = gradient_boosting_clf.predict(X_test)\n",
    "    accuracy = accuracy_score(y_test, y_pred)\n",
    "    gradient_boosting_accuracies += [accuracy]"
   ]
  },
  {
   "cell_type": "code",
   "execution_count": 112,
   "metadata": {},
   "outputs": [
    {
     "data": {
      "image/png": "[encoded data removed]",
      "text/plain": [
       "<Figure size 432x288 with 1 Axes>"
      ]
     },
     "metadata": {
      "needs_background": "light"
     },
     "output_type": "display_data"
    }
   ],
   "source": [
    "# Graphique des performances\n",
    "\n",
    "x = range(5,300,5)\n",
    "\n",
    "plt.plot(x,sklearn_adaboost_accuracies, label='AdaBoost')\n",
    "plt.plot(x,gradient_boosting_accuracies, label='Gradient Boosting')\n",
    "\n",
    "plt.title(\"Evolution de la précision des algorithmes en fonction  du nombre de classifieurs\")\n",
    "plt.xlabel(\"Nombre de classifieurs faibles\")\n",
    "plt.ylabel(\"Accuracy\")\n",
    "plt.legend()\n",
    "\n",
    "\n",
    "plt.show()"
   ]
  },
  {
   "cell_type": "markdown",
   "metadata": {},
   "source": [
    "### Influence du Learning Rate"
   ]
  },
  {
   "cell_type": "markdown",
   "metadata": {},
   "source": [
    "Au vu des résultats précédents (stabilisation de l'accuracy), on choisit un nombre de classifieurs égal à 100 pour AdaBoost et 250 pour Gradient Boosting."
   ]
  },
  {
   "cell_type": "code",
   "execution_count": 114,
   "metadata": {},
   "outputs": [],
   "source": [
    "# Calcul de l'accuracy des modèles pour différents nombres de classifieurs\n",
    "\n",
    "sklearn_adaboost_accuracies = []\n",
    "gradient_boosting_accuracies = []\n",
    "for i in range(1,50):\n",
    "    \n",
    "    # Entrainement des modèles à i classifieurs faibles\n",
    "    sklearn_adaboost_clf = AdaBoostClassifier(learning_rate=(i/100),n_estimators=100)\n",
    "    sklearn_adaboost_clf.fit(X_train, y_train)\n",
    "    gradient_boosting_clf = GradientBoostingClassifier(learning_rate=(i/100), n_estimators=250)\n",
    "    gradient_boosting_clf.fit(X_train, y_train)\n",
    "    \n",
    "    # Prédiction et calcul de l'accuracy pour sklearn AdaBoost\n",
    "    y_pred = sklearn_adaboost_clf.predict(X_test)\n",
    "    accuracy = accuracy_score(y_test, y_pred)\n",
    "    sklearn_adaboost_accuracies += [accuracy]\n",
    "    \n",
    "    # Prédiction et calcul de l'accuracy pour sklearn GradientBoosting\n",
    "    y_pred = gradient_boosting_clf.predict(X_test)\n",
    "    accuracy = accuracy_score(y_test, y_pred)\n",
    "    gradient_boosting_accuracies += [accuracy]"
   ]
  },
  {
   "cell_type": "code",
   "execution_count": 116,
   "metadata": {},
   "outputs": [
    {
     "data": {
      "image/png": "[encoded data removed]",
      "text/plain": [
       "<Figure size 432x288 with 1 Axes>"
      ]
     },
     "metadata": {
      "needs_background": "light"
     },
     "output_type": "display_data"
    }
   ],
   "source": [
    "# Graphique des performances\n",
    "\n",
    "x = [i/100 for i in range(1,50)]\n",
    "\n",
    "plt.plot(x,sklearn_adaboost_accuracies, label='AdaBoost')\n",
    "plt.plot(x,gradient_boosting_accuracies, label='Gradient Boosting')\n",
    "\n",
    "plt.title(\"Evolution de la précision des algorithmes en fonction  du learning rate\")\n",
    "plt.xlabel(\"Learning rate\")\n",
    "plt.ylabel(\"Accuracy\")\n",
    "plt.legend()\n",
    "\n",
    "\n",
    "plt.show()"
   ]
  },
  {
   "cell_type": "code",
   "execution_count": 72,
   "metadata": {},
   "outputs": [
    {
     "name": "stdout",
     "output_type": "stream",
     "text": [
      "Régression logistique\n",
      "Accuracy 0.8140467302640675\n"
     ]
    }
   ],
   "source": [
    "# Calcul de l'accuracy en utilisant une régression logistique (sklearn)\n",
    "\n",
    "log_reg_clf = LogisticRegression()\n",
    "log_reg_clf.fit(X_train, y_train)\n",
    "y_pred = log_reg_clf.predict(X_test)\n",
    "accuracy = accuracy_score(y_test, y_pred)\n",
    "\n",
    "print('Régression logistique')\n",
    "print('Accuracy', accuracy)"
   ]
  },
  {
   "cell_type": "markdown",
   "metadata": {},
   "source": [
    "On peut constater ici que les deux algorithmes de Boosting obtiennent de meilleurs résultats de classification que la régression logistique simple."
   ]
  }
 ],
 "metadata": {
  "kernelspec": {
   "display_name": "Python 3",
   "language": "python",
   "name": "python3"
  },
  "language_info": {
   "codemirror_mode": {
    "name": "ipython",
    "version": 3
   },
   "file_extension": ".py",
   "mimetype": "text/x-python",
   "name": "python",
   "nbconvert_exporter": "python",
   "pygments_lexer": "ipython3",
   "version": "3.7.6"
  }
 },
 "nbformat": 4,
 "nbformat_minor": 4
}
